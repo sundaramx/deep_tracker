{
 "cells": [
  {
   "cell_type": "code",
   "execution_count": 1,
   "metadata": {},
   "outputs": [
    {
     "name": "stdout",
     "output_type": "stream",
     "text": [
      "sed: 1: \"SiamMask/requirements.txt\": invalid command code S\n",
      "Requirement already satisfied: Cython==0.29.4 in /Users/sundar/anaconda3/envs/siammask/lib/python3.6/site-packages (from -r requirements.txt (line 1)) (0.29.4)\n",
      "Requirement already satisfied: colorama==0.3.9 in /Users/sundar/anaconda3/envs/siammask/lib/python3.6/site-packages (from -r requirements.txt (line 2)) (0.3.9)\n",
      "Requirement already satisfied: numpy==1.15.4 in /Users/sundar/anaconda3/envs/siammask/lib/python3.6/site-packages (from -r requirements.txt (line 3)) (1.15.4)\n",
      "Requirement already satisfied: requests==2.21.0 in /Users/sundar/anaconda3/envs/siammask/lib/python3.6/site-packages (from -r requirements.txt (line 4)) (2.21.0)\n",
      "Requirement already satisfied: fire==0.1.3 in /Users/sundar/anaconda3/envs/siammask/lib/python3.6/site-packages (from -r requirements.txt (line 5)) (0.1.3)\n",
      "Requirement already satisfied: torch==0.4.1 in /Users/sundar/anaconda3/envs/siammask/lib/python3.6/site-packages (from -r requirements.txt (line 6)) (0.4.1)\n",
      "Requirement already satisfied: matplotlib==2.2.3 in /Users/sundar/anaconda3/envs/siammask/lib/python3.6/site-packages (from -r requirements.txt (line 7)) (2.2.3)\n",
      "Requirement already satisfied: numba==0.39.0 in /Users/sundar/anaconda3/envs/siammask/lib/python3.6/site-packages (from -r requirements.txt (line 8)) (0.39.0)\n",
      "Requirement already satisfied: scipy==1.1.0 in /Users/sundar/anaconda3/envs/siammask/lib/python3.6/site-packages (from -r requirements.txt (line 9)) (1.1.0)\n",
      "Requirement already satisfied: h5py==2.8.0 in /Users/sundar/anaconda3/envs/siammask/lib/python3.6/site-packages (from -r requirements.txt (line 10)) (2.8.0)\n",
      "Requirement already satisfied: pandas==0.23.4 in /Users/sundar/anaconda3/envs/siammask/lib/python3.6/site-packages (from -r requirements.txt (line 11)) (0.23.4)\n",
      "Requirement already satisfied: tqdm==4.29.1 in /Users/sundar/anaconda3/envs/siammask/lib/python3.6/site-packages (from -r requirements.txt (line 12)) (4.29.1)\n",
      "Requirement already satisfied: tensorboardX==1.6 in /Users/sundar/anaconda3/envs/siammask/lib/python3.6/site-packages (from -r requirements.txt (line 13)) (1.6)\n",
      "Requirement already satisfied: opencv_python==3.4.3.18 in /Users/sundar/anaconda3/envs/siammask/lib/python3.6/site-packages (from -r requirements.txt (line 14)) (3.4.3.18)\n",
      "Requirement already satisfied: torchvision==0.2.1 in /Users/sundar/anaconda3/envs/siammask/lib/python3.6/site-packages (from -r requirements.txt (line 16)) (0.2.1)\n",
      "Requirement already satisfied: certifi>=2017.4.17 in /Users/sundar/anaconda3/envs/siammask/lib/python3.6/site-packages (from requests==2.21.0->-r requirements.txt (line 4)) (2019.11.28)\n",
      "Requirement already satisfied: chardet<3.1.0,>=3.0.2 in /Users/sundar/anaconda3/envs/siammask/lib/python3.6/site-packages (from requests==2.21.0->-r requirements.txt (line 4)) (3.0.4)\n",
      "Requirement already satisfied: urllib3<1.25,>=1.21.1 in /Users/sundar/anaconda3/envs/siammask/lib/python3.6/site-packages (from requests==2.21.0->-r requirements.txt (line 4)) (1.24.3)\n",
      "Requirement already satisfied: idna<2.9,>=2.5 in /Users/sundar/anaconda3/envs/siammask/lib/python3.6/site-packages (from requests==2.21.0->-r requirements.txt (line 4)) (2.8)\n",
      "Requirement already satisfied: six in /Users/sundar/anaconda3/envs/siammask/lib/python3.6/site-packages (from fire==0.1.3->-r requirements.txt (line 5)) (1.14.0)\n",
      "Requirement already satisfied: cycler>=0.10 in /Users/sundar/anaconda3/envs/siammask/lib/python3.6/site-packages (from matplotlib==2.2.3->-r requirements.txt (line 7)) (0.10.0)\n",
      "Requirement already satisfied: pytz in /Users/sundar/anaconda3/envs/siammask/lib/python3.6/site-packages (from matplotlib==2.2.3->-r requirements.txt (line 7)) (2019.3)\n",
      "Requirement already satisfied: kiwisolver>=1.0.1 in /Users/sundar/anaconda3/envs/siammask/lib/python3.6/site-packages (from matplotlib==2.2.3->-r requirements.txt (line 7)) (1.1.0)\n",
      "Requirement already satisfied: pyparsing!=2.0.4,!=2.1.2,!=2.1.6,>=2.0.1 in /Users/sundar/anaconda3/envs/siammask/lib/python3.6/site-packages (from matplotlib==2.2.3->-r requirements.txt (line 7)) (2.4.6)\n",
      "Requirement already satisfied: python-dateutil>=2.1 in /Users/sundar/anaconda3/envs/siammask/lib/python3.6/site-packages (from matplotlib==2.2.3->-r requirements.txt (line 7)) (2.8.1)\n",
      "Requirement already satisfied: llvmlite>=0.24.0dev0 in /Users/sundar/anaconda3/envs/siammask/lib/python3.6/site-packages (from numba==0.39.0->-r requirements.txt (line 8)) (0.31.0)\n",
      "Requirement already satisfied: protobuf>=3.2.0 in /Users/sundar/anaconda3/envs/siammask/lib/python3.6/site-packages (from tensorboardX==1.6->-r requirements.txt (line 13)) (3.11.3)\n",
      "Requirement already satisfied: pillow>=4.1.1 in /Users/sundar/anaconda3/envs/siammask/lib/python3.6/site-packages (from torchvision==0.2.1->-r requirements.txt (line 16)) (7.0.0)\n",
      "Requirement already satisfied: setuptools in /Users/sundar/anaconda3/envs/siammask/lib/python3.6/site-packages (from kiwisolver>=1.0.1->matplotlib==2.2.3->-r requirements.txt (line 7)) (45.2.0.post20200210)\n",
      "Compiling region.pyx because it changed.\n",
      "[1/1] Cythonizing region.pyx\n",
      "/Users/sundar/anaconda3/envs/siammask/lib/python3.6/site-packages/Cython/Compiler/Main.py:367: FutureWarning: Cython directive 'language_level' not set, using 2 for now (Py2). This will change in a later release! File: /Users/sundar/Workspaces/Q2/DFS/SiamMask/SiamMask/utils/pyvotkit/region.pyx\n",
      "  tree = Parsing.p_module(s, pxd, full_module_name)\n",
      "running build_ext\n",
      "building 'region' extension\n",
      "creating build\n",
      "creating build/temp.macosx-10.9-x86_64-3.6\n",
      "creating build/temp.macosx-10.9-x86_64-3.6/src\n",
      "gcc -Wno-unused-result -Wsign-compare -Wunreachable-code -DNDEBUG -g -fwrapv -O3 -Wall -Wstrict-prototypes -I/Users/sundar/anaconda3/envs/siammask/include -arch x86_64 -I/Users/sundar/anaconda3/envs/siammask/include -arch x86_64 -Isrc/ -I/Users/sundar/anaconda3/envs/siammask/include/python3.6m -c region.c -o build/temp.macosx-10.9-x86_64-3.6/region.o\n",
      "\u001b[1mregion.c:4744:9: \u001b[0m\u001b[0;1;35mwarning: \u001b[0m\u001b[1mvariable '__pyx_v_no_bounds' is used uninitialized\n",
      "      whenever 'if' condition is false [-Wsometimes-uninitialized]\u001b[0m\n",
      "  ...__Pyx_PyObject_SetAttrStr(__pyx_v_bounds, __pyx_n_s_bottom, __pyx_t_1) < 0...\n",
      "\u001b[0;1;32m     ^~~~~~~~~~~~~~~~~~~~~~~~~~~~~~~~~~~~~~~~~~~~~~~~~~~~~~~~~~~~~~~~~~~~~~~~~~\n",
      "\u001b[0m\u001b[1mregion.c:4816:134: \u001b[0m\u001b[0;1;30mnote: \u001b[0muninitialized use occurs here\u001b[0m\n",
      "  ...(&__pyx_v_only1), (&__pyx_v_only2), __pyx_v_no_bounds)); if (unlikely(!_...\n",
      "\u001b[0;1;32m                                         ^~~~~~~~~~~~~~~~~\n",
      "\u001b[0m\u001b[1mregion.c:4744:5: \u001b[0m\u001b[0;1;30mnote: \u001b[0mremove the 'if' if its condition is always true\u001b[0m\n",
      "    if (__Pyx_PyObject_SetAttrStr(__pyx_v_bounds, __pyx_n_s_bottom, __pyx_t_1) < 0) ...\n",
      "\u001b[0;1;32m    ^~~~~~~~~~~~~~~~~~~~~~~~~~~~~~~~~~~~~~~~~~~~~~~~~~~~~~~~~~~~~~~~~~~~~~~~~~~~~~~~\n",
      "\u001b[0m\u001b[1mregion.c:4530:3: \u001b[0m\u001b[0;1;30mnote: \u001b[0mvariable '__pyx_v_no_bounds' is declared here\u001b[0m\n",
      "  region_bounds __pyx_v_no_bounds;\n",
      "\u001b[0;1;32m  ^\n",
      "\u001b[0m\u001b[1mregion.c:9846:26: \u001b[0m\u001b[0;1;35mwarning: \u001b[0m\u001b[1mcode will never be executed [-Wunreachable-code]\u001b[0m\n",
      "                module = PyImport_ImportModuleLevelObject(\n",
      "\u001b[0;1;32m                         ^~~~~~~~~~~~~~~~~~~~~~~~~~~~~~~~\n",
      "\u001b[0m2 warnings generated.\n",
      "gcc -Wno-unused-result -Wsign-compare -Wunreachable-code -DNDEBUG -g -fwrapv -O3 -Wall -Wstrict-prototypes -I/Users/sundar/anaconda3/envs/siammask/include -arch x86_64 -I/Users/sundar/anaconda3/envs/siammask/include -arch x86_64 -Isrc/ -I/Users/sundar/anaconda3/envs/siammask/include/python3.6m -c src/region.c -o build/temp.macosx-10.9-x86_64-3.6/src/region.o\n",
      "gcc -bundle -undefined dynamic_lookup -L/Users/sundar/anaconda3/envs/siammask/lib -arch x86_64 -L/Users/sundar/anaconda3/envs/siammask/lib -arch x86_64 -arch x86_64 build/temp.macosx-10.9-x86_64-3.6/region.o build/temp.macosx-10.9-x86_64-3.6/src/region.o -o /Users/sundar/Workspaces/Q2/DFS/SiamMask/SiamMask/utils/pyvotkit/region.cpython-36m-darwin.so\n",
      "Compiling region.pyx because it changed.\n",
      "[1/1] Cythonizing region.pyx\n",
      "/Users/sundar/anaconda3/envs/siammask/lib/python3.6/site-packages/Cython/Compiler/Main.py:367: FutureWarning: Cython directive 'language_level' not set, using 2 for now (Py2). This will change in a later release! File: /Users/sundar/Workspaces/Q2/DFS/SiamMask/SiamMask/utils/pysot/utils/region.pyx\n",
      "  tree = Parsing.p_module(s, pxd, full_module_name)\n"
     ]
    },
    {
     "name": "stdout",
     "output_type": "stream",
     "text": [
      "running build_ext\n",
      "building 'region' extension\n",
      "creating build\n",
      "creating build/temp.macosx-10.9-x86_64-3.6\n",
      "creating build/temp.macosx-10.9-x86_64-3.6/src\n",
      "gcc -Wno-unused-result -Wsign-compare -Wunreachable-code -DNDEBUG -g -fwrapv -O3 -Wall -Wstrict-prototypes -I/Users/sundar/anaconda3/envs/siammask/include -arch x86_64 -I/Users/sundar/anaconda3/envs/siammask/include -arch x86_64 -Isrc/ -I. -I/Users/sundar/anaconda3/envs/siammask/include/python3.6m -c region.c -o build/temp.macosx-10.9-x86_64-3.6/region.o\n",
      "\u001b[1mregion.c:10247:26: \u001b[0m\u001b[0;1;35mwarning: \u001b[0m\u001b[1mcode will never be executed [-Wunreachable-code]\u001b[0m\n",
      "                module = PyImport_ImportModuleLevelObject(\n",
      "\u001b[0;1;32m                         ^~~~~~~~~~~~~~~~~~~~~~~~~~~~~~~~\n",
      "\u001b[0m1 warning generated.\n",
      "gcc -Wno-unused-result -Wsign-compare -Wunreachable-code -DNDEBUG -g -fwrapv -O3 -Wall -Wstrict-prototypes -I/Users/sundar/anaconda3/envs/siammask/include -arch x86_64 -I/Users/sundar/anaconda3/envs/siammask/include -arch x86_64 -Isrc/ -I. -I/Users/sundar/anaconda3/envs/siammask/include/python3.6m -c src/region.c -o build/temp.macosx-10.9-x86_64-3.6/src/region.o\n",
      "gcc -bundle -undefined dynamic_lookup -L/Users/sundar/anaconda3/envs/siammask/lib -arch x86_64 -L/Users/sundar/anaconda3/envs/siammask/lib -arch x86_64 -arch x86_64 build/temp.macosx-10.9-x86_64-3.6/region.o build/temp.macosx-10.9-x86_64-3.6/src/region.o -o /Users/sundar/Workspaces/Q2/DFS/SiamMask/SiamMask/utils/pysot/utils/region.cpython-36m-darwin.so\n"
     ]
    }
   ],
   "source": [
    "import os\n",
    "from os.path import exists, join, basename, splitext\n",
    "\n",
    "git_repo_url = 'https://github.com/foolwood/SiamMask.git'\n",
    "project_name = splitext(basename(git_repo_url))[0]\n",
    "\n",
    "\n",
    "\n",
    "#exp_path = './experiments/siammask_sharp'\n",
    "#pretrained_path1 = './experiments/siammask_sharp/SiamMask_DAVIS.pth'\n",
    "#pretrained_path2 = './experiments/siammask_sharp/SiamMask_VOT.pth'\n",
    "\n",
    "if not exists(project_name):\n",
    "  # clone and install dependencies\n",
    "  !git clone -q --depth 1 {git_repo_url}\n",
    "  !sed -i \"/torch/d\" {project_name}/requirements.txt\n",
    "  !cd {project_name} && pip install -r requirements.txt\n",
    "  !cd {project_name} && bash make.sh\n",
    "  !pip install -q youtube-dl\n"
   ]
  },
  {
   "cell_type": "code",
   "execution_count": 2,
   "metadata": {},
   "outputs": [
    {
     "name": "stdout",
     "output_type": "stream",
     "text": [
      "Requirement already satisfied: Cython==0.29.4 in /Users/sundar/anaconda3/envs/siammask/lib/python3.6/site-packages (from -r requirements.txt (line 1)) (0.29.4)\n",
      "Requirement already satisfied: colorama==0.3.9 in /Users/sundar/anaconda3/envs/siammask/lib/python3.6/site-packages (from -r requirements.txt (line 2)) (0.3.9)\n",
      "Requirement already satisfied: numpy==1.15.4 in /Users/sundar/anaconda3/envs/siammask/lib/python3.6/site-packages (from -r requirements.txt (line 3)) (1.15.4)\n",
      "Requirement already satisfied: requests==2.21.0 in /Users/sundar/anaconda3/envs/siammask/lib/python3.6/site-packages (from -r requirements.txt (line 4)) (2.21.0)\n",
      "Requirement already satisfied: fire==0.1.3 in /Users/sundar/anaconda3/envs/siammask/lib/python3.6/site-packages (from -r requirements.txt (line 5)) (0.1.3)\n",
      "Requirement already satisfied: torch==0.4.1 in /Users/sundar/anaconda3/envs/siammask/lib/python3.6/site-packages (from -r requirements.txt (line 6)) (0.4.1)\n",
      "Requirement already satisfied: matplotlib==2.2.3 in /Users/sundar/anaconda3/envs/siammask/lib/python3.6/site-packages (from -r requirements.txt (line 7)) (2.2.3)\n",
      "Requirement already satisfied: numba==0.39.0 in /Users/sundar/anaconda3/envs/siammask/lib/python3.6/site-packages (from -r requirements.txt (line 8)) (0.39.0)\n",
      "Requirement already satisfied: scipy==1.1.0 in /Users/sundar/anaconda3/envs/siammask/lib/python3.6/site-packages (from -r requirements.txt (line 9)) (1.1.0)\n",
      "Requirement already satisfied: h5py==2.8.0 in /Users/sundar/anaconda3/envs/siammask/lib/python3.6/site-packages (from -r requirements.txt (line 10)) (2.8.0)\n",
      "Requirement already satisfied: pandas==0.23.4 in /Users/sundar/anaconda3/envs/siammask/lib/python3.6/site-packages (from -r requirements.txt (line 11)) (0.23.4)\n",
      "Requirement already satisfied: tqdm==4.29.1 in /Users/sundar/anaconda3/envs/siammask/lib/python3.6/site-packages (from -r requirements.txt (line 12)) (4.29.1)\n",
      "Requirement already satisfied: tensorboardX==1.6 in /Users/sundar/anaconda3/envs/siammask/lib/python3.6/site-packages (from -r requirements.txt (line 13)) (1.6)\n",
      "Requirement already satisfied: opencv_python==3.4.3.18 in /Users/sundar/anaconda3/envs/siammask/lib/python3.6/site-packages (from -r requirements.txt (line 14)) (3.4.3.18)\n",
      "Requirement already satisfied: torchvision==0.2.1 in /Users/sundar/anaconda3/envs/siammask/lib/python3.6/site-packages (from -r requirements.txt (line 16)) (0.2.1)\n",
      "Requirement already satisfied: chardet<3.1.0,>=3.0.2 in /Users/sundar/anaconda3/envs/siammask/lib/python3.6/site-packages (from requests==2.21.0->-r requirements.txt (line 4)) (3.0.4)\n",
      "Requirement already satisfied: urllib3<1.25,>=1.21.1 in /Users/sundar/anaconda3/envs/siammask/lib/python3.6/site-packages (from requests==2.21.0->-r requirements.txt (line 4)) (1.24.3)\n",
      "Requirement already satisfied: certifi>=2017.4.17 in /Users/sundar/anaconda3/envs/siammask/lib/python3.6/site-packages (from requests==2.21.0->-r requirements.txt (line 4)) (2019.11.28)\n",
      "Requirement already satisfied: idna<2.9,>=2.5 in /Users/sundar/anaconda3/envs/siammask/lib/python3.6/site-packages (from requests==2.21.0->-r requirements.txt (line 4)) (2.8)\n",
      "Requirement already satisfied: six in /Users/sundar/anaconda3/envs/siammask/lib/python3.6/site-packages (from fire==0.1.3->-r requirements.txt (line 5)) (1.14.0)\n",
      "Requirement already satisfied: pyparsing!=2.0.4,!=2.1.2,!=2.1.6,>=2.0.1 in /Users/sundar/anaconda3/envs/siammask/lib/python3.6/site-packages (from matplotlib==2.2.3->-r requirements.txt (line 7)) (2.4.6)\n",
      "Requirement already satisfied: python-dateutil>=2.1 in /Users/sundar/anaconda3/envs/siammask/lib/python3.6/site-packages (from matplotlib==2.2.3->-r requirements.txt (line 7)) (2.8.1)\n",
      "Requirement already satisfied: cycler>=0.10 in /Users/sundar/anaconda3/envs/siammask/lib/python3.6/site-packages (from matplotlib==2.2.3->-r requirements.txt (line 7)) (0.10.0)\n",
      "Requirement already satisfied: kiwisolver>=1.0.1 in /Users/sundar/anaconda3/envs/siammask/lib/python3.6/site-packages (from matplotlib==2.2.3->-r requirements.txt (line 7)) (1.1.0)\n",
      "Requirement already satisfied: pytz in /Users/sundar/anaconda3/envs/siammask/lib/python3.6/site-packages (from matplotlib==2.2.3->-r requirements.txt (line 7)) (2019.3)\n",
      "Requirement already satisfied: llvmlite>=0.24.0dev0 in /Users/sundar/anaconda3/envs/siammask/lib/python3.6/site-packages (from numba==0.39.0->-r requirements.txt (line 8)) (0.31.0)\n",
      "Requirement already satisfied: protobuf>=3.2.0 in /Users/sundar/anaconda3/envs/siammask/lib/python3.6/site-packages (from tensorboardX==1.6->-r requirements.txt (line 13)) (3.11.3)\n",
      "Requirement already satisfied: pillow>=4.1.1 in /Users/sundar/anaconda3/envs/siammask/lib/python3.6/site-packages (from torchvision==0.2.1->-r requirements.txt (line 16)) (7.0.0)\n",
      "Requirement already satisfied: setuptools in /Users/sundar/anaconda3/envs/siammask/lib/python3.6/site-packages (from kiwisolver>=1.0.1->matplotlib==2.2.3->-r requirements.txt (line 7)) (45.2.0.post20200210)\n"
     ]
    }
   ],
   "source": [
    "!pip install -r requirements.txt"
   ]
  },
  {
   "cell_type": "code",
   "execution_count": 3,
   "metadata": {},
   "outputs": [],
   "source": [
    "import sys\n",
    "sys.path.append(project_name)\n",
    "sys.path.append(join(project_name, 'experiments', 'siammask_sharp'))"
   ]
  },
  {
   "cell_type": "code",
   "execution_count": 4,
   "metadata": {},
   "outputs": [],
   "source": [
    "import time\n",
    "import matplotlib\n",
    "import matplotlib.pyplot as plt\n",
    "plt.rcParams[\"axes.grid\"] = False"
   ]
  },
  {
   "cell_type": "code",
   "execution_count": 5,
   "metadata": {},
   "outputs": [],
   "source": [
    "from IPython.display import YouTubeVideo"
   ]
  },
  {
   "cell_type": "code",
   "execution_count": 6,
   "metadata": {},
   "outputs": [
    {
     "data": {
      "text/plain": [
       "<torch.autograd.grad_mode.set_grad_enabled at 0x7fd6280b9fd0>"
      ]
     },
     "execution_count": 6,
     "metadata": {},
     "output_type": "execute_result"
    }
   ],
   "source": [
    "import cv2\n",
    "import torchvision\n",
    "import cv2\n",
    "import numpy as np\n",
    "import torch\n",
    "torch.set_grad_enabled(False)"
   ]
  },
  {
   "cell_type": "code",
   "execution_count": 7,
   "metadata": {},
   "outputs": [
    {
     "name": "stdout",
     "output_type": "stream",
     "text": [
      "running build_ext\n",
      "building 'region' extension\n",
      "gcc -Wno-unused-result -Wsign-compare -Wunreachable-code -DNDEBUG -g -fwrapv -O3 -Wall -Wstrict-prototypes -I/Users/sundar/anaconda3/envs/siammask/include -arch x86_64 -I/Users/sundar/anaconda3/envs/siammask/include -arch x86_64 -Isrc/ -I/Users/sundar/anaconda3/envs/siammask/include/python3.6m -c region.c -o build/temp.macosx-10.9-x86_64-3.6/region.o\n",
      "\u001b[1mregion.c:4725:9: \u001b[0m\u001b[0;1;35mwarning: \u001b[0m\u001b[1mvariable '__pyx_v_no_bounds' is used uninitialized\n",
      "      whenever 'if' condition is false [-Wsometimes-uninitialized]\u001b[0m\n",
      "  ...__Pyx_PyObject_SetAttrStr(__pyx_v_bounds, __pyx_n_s_bottom, __pyx_t_1) < 0...\n",
      "\u001b[0;1;32m     ^~~~~~~~~~~~~~~~~~~~~~~~~~~~~~~~~~~~~~~~~~~~~~~~~~~~~~~~~~~~~~~~~~~~~~~~~~\n",
      "\u001b[0m\u001b[1mregion.c:4797:134: \u001b[0m\u001b[0;1;30mnote: \u001b[0muninitialized use occurs here\u001b[0m\n",
      "  ...(&__pyx_v_only1), (&__pyx_v_only2), __pyx_v_no_bounds)); if (unlikely(!_...\n",
      "\u001b[0;1;32m                                         ^~~~~~~~~~~~~~~~~\n",
      "\u001b[0m\u001b[1mregion.c:4725:5: \u001b[0m\u001b[0;1;30mnote: \u001b[0mremove the 'if' if its condition is always true\u001b[0m\n",
      "    if (__Pyx_PyObject_SetAttrStr(__pyx_v_bounds, __pyx_n_s_bottom, __pyx_t_1) < 0) ...\n",
      "\u001b[0;1;32m    ^~~~~~~~~~~~~~~~~~~~~~~~~~~~~~~~~~~~~~~~~~~~~~~~~~~~~~~~~~~~~~~~~~~~~~~~~~~~~~~~\n",
      "\u001b[0m\u001b[1mregion.c:4511:3: \u001b[0m\u001b[0;1;30mnote: \u001b[0mvariable '__pyx_v_no_bounds' is declared here\u001b[0m\n",
      "  region_bounds __pyx_v_no_bounds;\n",
      "\u001b[0;1;32m  ^\n",
      "\u001b[0m1 warning generated.\n",
      "gcc -Wno-unused-result -Wsign-compare -Wunreachable-code -DNDEBUG -g -fwrapv -O3 -Wall -Wstrict-prototypes -I/Users/sundar/anaconda3/envs/siammask/include -arch x86_64 -I/Users/sundar/anaconda3/envs/siammask/include -arch x86_64 -Isrc/ -I/Users/sundar/anaconda3/envs/siammask/include/python3.6m -c src/region.c -o build/temp.macosx-10.9-x86_64-3.6/src/region.o\n",
      "gcc -bundle -undefined dynamic_lookup -L/Users/sundar/anaconda3/envs/siammask/lib -arch x86_64 -L/Users/sundar/anaconda3/envs/siammask/lib -arch x86_64 -arch x86_64 build/temp.macosx-10.9-x86_64-3.6/region.o build/temp.macosx-10.9-x86_64-3.6/src/region.o -o /Users/sundar/Workspaces/Q2/DFS/SiamMask/utils/pyvotkit/region.cpython-36m-darwin.so\n",
      "running build_ext\n"
     ]
    }
   ],
   "source": [
    "!bash make.sh"
   ]
  },
  {
   "cell_type": "code",
   "execution_count": 8,
   "metadata": {},
   "outputs": [
    {
     "name": "stdout",
     "output_type": "stream",
     "text": [
      "/Users/sundar/anaconda3/envs/siammask/lib/python3.6/site-packages/Cython/Compiler/Main.py:367: FutureWarning: Cython directive 'language_level' not set, using 2 for now (Py2). This will change in a later release! File: /Users/sundar/Workspaces/Q2/DFS/SiamMask/utils/pyvotkit/region.pyx\r\n",
      "  tree = Parsing.p_module(s, pxd, full_module_name)\r\n"
     ]
    }
   ],
   "source": [
    "!cython ./utils/pyvotkit/region.pyx"
   ]
  },
  {
   "cell_type": "code",
   "execution_count": 9,
   "metadata": {},
   "outputs": [
    {
     "ename": "ImportError",
     "evalue": "cannot import name 'region' from 'utils.pyvotkit' (/Users/sundar/Workspaces/Q2/DFS/SiamMask/utils/pyvotkit/__init__.py)",
     "output_type": "error",
     "traceback": [
      "\u001b[0;31m---------------------------------------------------------------------------\u001b[0m",
      "\u001b[0;31mImportError\u001b[0m                               Traceback (most recent call last)",
      "\u001b[0;32m<ipython-input-9-32e3859c4a2c>\u001b[0m in \u001b[0;36m<module>\u001b[0;34m()\u001b[0m\n\u001b[1;32m      1\u001b[0m \u001b[0;32mfrom\u001b[0m \u001b[0mtypes\u001b[0m \u001b[0;32mimport\u001b[0m \u001b[0mSimpleNamespace\u001b[0m\u001b[0;34m\u001b[0m\u001b[0;34m\u001b[0m\u001b[0m\n\u001b[1;32m      2\u001b[0m \u001b[0;32mfrom\u001b[0m \u001b[0mcustom\u001b[0m \u001b[0;32mimport\u001b[0m \u001b[0mCustom\u001b[0m\u001b[0;34m\u001b[0m\u001b[0;34m\u001b[0m\u001b[0m\n\u001b[0;32m----> 3\u001b[0;31m \u001b[0;32mfrom\u001b[0m \u001b[0mtools\u001b[0m\u001b[0;34m.\u001b[0m\u001b[0mtest\u001b[0m \u001b[0;32mimport\u001b[0m \u001b[0;34m*\u001b[0m\u001b[0;34m\u001b[0m\u001b[0;34m\u001b[0m\u001b[0m\n\u001b[0m",
      "\u001b[0;32m/Users/sundar/Workspaces/Q2/DFS/SiamMask/tools/test.py\u001b[0m in \u001b[0;36m<module>\u001b[0;34m()\u001b[0m\n\u001b[1;32m     26\u001b[0m \u001b[0;34m\u001b[0m\u001b[0m\n\u001b[1;32m     27\u001b[0m \u001b[0;32mfrom\u001b[0m \u001b[0mutils\u001b[0m\u001b[0;34m.\u001b[0m\u001b[0mconfig_helper\u001b[0m \u001b[0;32mimport\u001b[0m \u001b[0mload_config\u001b[0m\u001b[0;34m\u001b[0m\u001b[0;34m\u001b[0m\u001b[0m\n\u001b[0;32m---> 28\u001b[0;31m \u001b[0;32mfrom\u001b[0m \u001b[0mutils\u001b[0m\u001b[0;34m.\u001b[0m\u001b[0mpyvotkit\u001b[0m\u001b[0;34m.\u001b[0m\u001b[0mregion\u001b[0m \u001b[0;32mimport\u001b[0m \u001b[0mvot_overlap\u001b[0m\u001b[0;34m,\u001b[0m \u001b[0mvot_float2str\u001b[0m\u001b[0;34m\u001b[0m\u001b[0;34m\u001b[0m\u001b[0m\n\u001b[0m\u001b[1;32m     29\u001b[0m \u001b[0;34m\u001b[0m\u001b[0m\n\u001b[1;32m     30\u001b[0m \u001b[0mthrs\u001b[0m \u001b[0;34m=\u001b[0m \u001b[0mnp\u001b[0m\u001b[0;34m.\u001b[0m\u001b[0marange\u001b[0m\u001b[0;34m(\u001b[0m\u001b[0;36m0.3\u001b[0m\u001b[0;34m,\u001b[0m \u001b[0;36m0.5\u001b[0m\u001b[0;34m,\u001b[0m \u001b[0;36m0.05\u001b[0m\u001b[0;34m)\u001b[0m\u001b[0;34m\u001b[0m\u001b[0;34m\u001b[0m\u001b[0m\n",
      "\u001b[0;32m/Users/sundar/Workspaces/Q2/DFS/SiamMask/utils/pyvotkit/__init__.py\u001b[0m in \u001b[0;36m<module>\u001b[0;34m()\u001b[0m\n\u001b[1;32m      7\u001b[0m \u001b[0;31m# Revised for SiamMask by foolwood\u001b[0m\u001b[0;34m\u001b[0m\u001b[0;34m\u001b[0m\u001b[0;34m\u001b[0m\u001b[0m\n\u001b[1;32m      8\u001b[0m \u001b[0;31m# --------------------------------------------------------\u001b[0m\u001b[0;34m\u001b[0m\u001b[0;34m\u001b[0m\u001b[0;34m\u001b[0m\u001b[0m\n\u001b[0;32m----> 9\u001b[0;31m \u001b[0;32mfrom\u001b[0m \u001b[0;34m.\u001b[0m \u001b[0;32mimport\u001b[0m \u001b[0mregion\u001b[0m\u001b[0;34m\u001b[0m\u001b[0;34m\u001b[0m\u001b[0m\n\u001b[0m",
      "\u001b[0;31mImportError\u001b[0m: cannot import name 'region' from 'utils.pyvotkit' (/Users/sundar/Workspaces/Q2/DFS/SiamMask/utils/pyvotkit/__init__.py)"
     ]
    }
   ],
   "source": [
    "from types import SimpleNamespace\n",
    "from custom import Custom\n",
    "from tools.test import *"
   ]
  },
  {
   "cell_type": "code",
   "execution_count": null,
   "metadata": {},
   "outputs": [],
   "source": []
  }
 ],
 "metadata": {
  "kernelspec": {
   "display_name": "Python 3",
   "language": "python",
   "name": "python3"
  },
  "language_info": {
   "codemirror_mode": {
    "name": "ipython",
    "version": 3
   },
   "file_extension": ".py",
   "mimetype": "text/x-python",
   "name": "python",
   "nbconvert_exporter": "python",
   "pygments_lexer": "ipython3",
   "version": "3.7.3"
  }
 },
 "nbformat": 4,
 "nbformat_minor": 2
}
